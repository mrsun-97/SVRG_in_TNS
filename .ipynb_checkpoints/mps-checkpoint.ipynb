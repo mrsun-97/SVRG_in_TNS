{
 "cells": [
  {
   "cell_type": "markdown",
   "metadata": {},
   "source": [
    "## About MPS\n",
    "The matrix-product-state type defined by Prof. B Clark at UIUC. See his [Problem Set 3](https://courses.physics.illinois.edu/phys598bkc/fa2015/hw3.html)."
   ]
  },
  {
   "cell_type": "code",
   "execution_count": null,
   "metadata": {},
   "outputs": [],
   "source": [
    "# using Iterators\n",
    "\n",
    "struct Index\n",
    "    dim::Array{Int64}\n",
    "    name::Array{String}\n",
    "end\n",
    "\n",
    "struct Tensor\n",
    "    data::Array{Float64}\n",
    "    index::Index\n",
    "end\n",
    "\n",
    "struct MPS\n",
    "    site::Array{Tensor}\n",
    "    siteIndex::Array{Integer}\n",
    "    MPS(A,range) = new(A,collect(range))\n",
    "end\n",
    "\n",
    "function makeTensor(theIndex)\n",
    "#    Tensor(Array(Float64,tuple(theIndex.index_dims[:]...)),theIndex)\n",
    "    Tensor(zeros(Float64,tuple(theIndex.dim[:]...)),theIndex)\n",
    "end\n",
    "\n",
    "D=6\n",
    "spin_deg=2\n",
    "mps_size=3\n",
    "\n",
    "# A complex way to construct the tensor network, do not care the details.\n",
    "mps=MPS(\n",
    "        vcat(\n",
    "            vcat(\n",
    "                   [makeTensor(Index([1,D,spin_deg],[\"ileft\",\"i1\",\"s1\"]))],\n",
    "                   [makeTensor(Index([D,D,spin_deg],[\"i$(i-1)\",\"i$(i)\",\"s$i\"])) for i in 2:mps_size-1]\n",
    "            ),\n",
    "            [makeTensor(Index([D,1,spin_deg],[\"i$(mps_size-1)\",\"iright\",\"s$(mps_size)\"]))]\n",
    "        ),\n",
    "        1:mps_size\n",
    ")\n",
    "\n",
    "println(\"MPS generated\")"
   ]
  },
  {
   "cell_type": "code",
   "execution_count": null,
   "metadata": {},
   "outputs": [],
   "source": []
  },
  {
   "cell_type": "code",
   "execution_count": null,
   "metadata": {},
   "outputs": [],
   "source": [
    "println(\"MPS length = \", length(mps.site))\n",
    "println(\"MPS left-site dims =    \", size(mps.site[1].data))\n",
    "println(\"MPS middle-site1 dims = \", size(mps.site[2].data))\n",
    "if length(mps.site[:]) > 3\n",
    "    println(\"MPS middle-site2 dims = \", size(mps.site[3].data))\n",
    "end\n",
    "println(\"MPS right-site dims =   \", size(mps.site[end].data))"
   ]
  },
  {
   "cell_type": "markdown",
   "metadata": {},
   "source": [
    "## Starting SVRG program first trial"
   ]
  },
  {
   "cell_type": "markdown",
   "metadata": {},
   "source": [
    "#### You may wait for several minites to precompiling."
   ]
  },
  {
   "cell_type": "code",
   "execution_count": 1,
   "metadata": {},
   "outputs": [
    {
     "name": "stdout",
     "output_type": "stream",
     "text": [
      "Julia Version 1.4.2\n",
      "Commit 44fa15b (2020-05-23 18:35 UTC)\n",
      "Platform Info:\n",
      "  OS: Linux (x86_64-pc-linux-gnu)\n",
      "  CPU: Intel(R) Core(TM) i7-6700HQ CPU @ 2.60GHz\n",
      "  WORD_SIZE: 64\n",
      "  LIBM: libopenlibm\n",
      "  LLVM: libLLVM-8.0.1 (ORCJIT, skylake)\n",
      "Environment:\n",
      "  JULIA_PKG_SERVER = https://mirrors.bfsu.edu.cn/julia/static\n"
     ]
    }
   ],
   "source": [
    "using LinearAlgebra, Plots\n",
    "using TensorOperations\n",
    "versioninfo()"
   ]
  },
  {
   "cell_type": "markdown",
   "metadata": {},
   "source": [
    "#### Define functions "
   ]
  },
  {
   "cell_type": "code",
   "execution_count": null,
   "metadata": {},
   "outputs": [],
   "source": [
    "function generate_MPS(func::Function; D=6, spin_deg=2, mps_size=8)::MPS\n",
    "    \n",
    "    makeTensor(theIndex) = Tensor( func(Float64,tuple(theIndex.dim[:]...) ),theIndex)\n",
    "    mps = MPS(\n",
    "        vcat(\n",
    "            vcat(\n",
    "                   [makeTensor(Index([1,D,spin_deg],[\"ileft\",\"i1\",\"s1\"]))],\n",
    "                   [makeTensor(Index([D,D,spin_deg],[\"i$(i-1)\",\"i$(i)\",\"s$i\"])) for i in 2:mps_size-1]\n",
    "            ),\n",
    "            [makeTensor(Index([D,1,spin_deg],[\"i$(mps_size-1)\",\"iright\",\"s$(mps_size)\"]))]\n",
    "        ),\n",
    "        1:mps_size\n",
    "    )\n",
    "    return mps\n",
    "end\n",
    "\n",
    "function generate_Heisenberg_Hamiltonian()\n",
    "    σx = [0  1;1  0]\n",
    "    iσy = -[0 -1;1  0]\n",
    "    σz = [1  0;0  -1]\n",
    "    self_kron(A::Matrix) = tensorproduct(A,(11,19),A,(21,29),(11,21,19,29))\n",
    "    H = 0.25*(self_kron(σx)-self_kron(iσy)+self_kron(σz))\n",
    "    return H\n",
    "end\n",
    "\n",
    "# right regularization\n",
    "# BBB  B\n",
    "# BBB RA\n",
    "# BBB' A\n",
    "function right_regularize!(mps::MPS)\n",
    "    arrS = mps.site\n",
    "    len = length(arrS)\n",
    "    for i in len:-1:2\n",
    "        A = arrS[i].data\n",
    "        B = arrS[i-1].data\n",
    "        l, r, s = arrS[i].index.dim\n",
    "        F = lq( reshape(A,l,r*s) )\n",
    "        if i != len\n",
    "            A[:] = reshape(Matrix(F.Q),l,r,s)\n",
    "            # the \"l r s\" below are just simbols in the macro, they are not what we defined above.\n",
    "            @tensor C[l,r',s] := B[l,r,s]*F.L[r,r']\n",
    "        else\n",
    "            A[:] = reshape(Matrix(I,l,r*s)*F.Q,l,r,s)\n",
    "            L = 0.0*Matrix(I,l,l)\n",
    "            L[:,1:r*s] = F.L\n",
    "            @tensor C[l,r',s] := B[l,r,s]*L[r,r']\n",
    "        end\n",
    "        B[:] = C\n",
    "    end\n",
    "    arrS[1].data[:] = arrS[1].data / norm(arrS[1].data,2)\n",
    "end\n"
   ]
  },
  {
   "cell_type": "code",
   "execution_count": 235,
   "metadata": {},
   "outputs": [
    {
     "name": "stdout",
     "output_type": "stream",
     "text": [
      "1×5×2 Array{Float64,3}:\n",
      "[:, :, 1] =\n",
      " 0.563537  0.126339  0.969578  0.872499  0.255527\n",
      "\n",
      "[:, :, 2] =\n",
      " 0.159956  0.612816  0.436311  0.675989  0.968021\n",
      "\n",
      "\n",
      "1×5×2 Array{Float64,3}:\n",
      "[:, :, 1] =\n",
      " -0.725184  -0.0920465  -0.00182738  0.00404355  -0.00103989\n",
      "\n",
      "[:, :, 2] =\n",
      " -0.667498  -0.141309  0.0049255  0.00732898  -0.00393945"
     ]
    }
   ],
   "source": [
    "mps = generate_MPS(rand; D=5, spin_deg=2, mps_size=8)\n",
    "H = generate_Heisenberg_Hamiltonian()\n",
    "show(stdout,\"text/plain\",mps.site[1].data)\n",
    "\n",
    "right_regularize!(mps)\n",
    "\n",
    "println(\"\\n\\n\")\n",
    "show(stdout,\"text/plain\",mps.site[1].data)"
   ]
  },
  {
   "cell_type": "code",
   "execution_count": null,
   "metadata": {},
   "outputs": [],
   "source": [
    "function energy!(mps::MPS)::Real\n",
    "    right_regularize(mps)\n",
    "    S = mps.site\n",
    "end"
   ]
  },
  {
   "cell_type": "code",
   "execution_count": null,
   "metadata": {},
   "outputs": [],
   "source": []
  },
  {
   "cell_type": "code",
   "execution_count": null,
   "metadata": {},
   "outputs": [],
   "source": [
    "A = [1.0 2 3 4; 5 6 7 8]'\n",
    "B = Matrix(A)"
   ]
  },
  {
   "cell_type": "code",
   "execution_count": null,
   "metadata": {},
   "outputs": [],
   "source": []
  }
 ],
 "metadata": {
  "kernelspec": {
   "display_name": "Julia 1.4.2",
   "language": "julia",
   "name": "julia-1.4"
  },
  "language_info": {
   "file_extension": ".jl",
   "mimetype": "application/julia",
   "name": "julia",
   "version": "1.4.2"
  }
 },
 "nbformat": 4,
 "nbformat_minor": 4
}
